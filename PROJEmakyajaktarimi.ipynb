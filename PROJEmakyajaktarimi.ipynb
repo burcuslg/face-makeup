{
 "cells": [
  {
   "cell_type": "code",
   "execution_count": null,
   "id": "b72b9019",
   "metadata": {},
   "outputs": [],
   "source": [
    "import dlib\n",
    "import matplotlib.pyplot as plt\n",
    "import matplotlib.patches as patches\n",
    "import tensorflow.compat.v1 as tf\n",
    "import numpy as np\n",
    "import pandas as pd\n",
    "from sklearn.model_selection import train_test_split\n",
    "\n",
    "import keras\n",
    "from keras.models import Sequential\n",
    "from keras.layers import Conv2D, MaxPooling2D, Dense, Flatten, Dropout\n",
    "from tensorflow.keras.optimizers import Adam"
   ]
  },
  {
   "cell_type": "code",
   "execution_count": null,
   "id": "24ad24fe",
   "metadata": {},
   "outputs": [],
   "source": [
    "bulucu= dlib.get_frontal_face_detector()\n",
    "bicim= dlib.shape_predictor('C:/Users/Burcu/Desktop/modeller/shape_predictor_5_face_landmarks.dat') "
   ]
  },
  {
   "cell_type": "code",
   "execution_count": null,
   "id": "3ff7831a",
   "metadata": {},
   "outputs": [],
   "source": [
    "foto = dlib.load_rgb_image('C:/Users/Burcu/Desktop/fotolar/07.jpg')\n",
    "\n",
    "plt.figure(figsize=(26, 20))\n",
    "plt.imshow(foto)"
   ]
  },
  {
   "cell_type": "code",
   "execution_count": null,
   "id": "8ef01518",
   "metadata": {},
   "outputs": [],
   "source": [
    "fotosonuc = foto.copy()\n",
    "\n",
    "blc= bulucu(foto, 1)\n",
    "\n",
    "if len(blc) == 0:\n",
    "    print('Yüz Bulunamadı!')\n",
    "\n",
    "fig, ax = plt.subplots(1, figsize=(16, 10))\n",
    "\n",
    "for det in blc:\n",
    "    k, l, m, n = det.left(), det.top(), det.width(), det.height()\n",
    "\n",
    "    rect = patches.Rectangle((k, l), m, n, linewidth=2, edgecolor='r', facecolor='none')\n",
    "    ax.add_patch(rect)\n",
    "\n",
    "ax.imshow(fotosonuc)"
   ]
  },
  {
   "cell_type": "code",
   "execution_count": null,
   "id": "d10a2090",
   "metadata": {},
   "outputs": [],
   "source": [
    "fig, ax = plt.subplots(1, figsize=(16, 10))\n",
    "nesne = dlib.full_object_detections()\n",
    "for detection in blc:\n",
    "    s = bicim(foto, detection)\n",
    "    nesne.append(s)\n",
    "    for point in s.parts():\n",
    "        circle = patches.Circle((point.x, point.y), radius=3, edgecolor='r', facecolor='r')\n",
    "        ax.add_patch(circle)\n",
    "ax.imshow(fotosonuc)"
   ]
  },
  {
   "cell_type": "code",
   "execution_count": null,
   "id": "3a8bb7e3",
   "metadata": {},
   "outputs": [],
   "source": [
    "yuzler = dlib.get_face_chips(foto, nesne, size=256, padding=0.18)\n",
    "\n",
    "fig, axes = plt.subplots(1, len(yuzler)+1, figsize=(20, 16))\n",
    "\n",
    "axes[0].imshow(foto)\n",
    "\n",
    "for p, yuz in enumerate(yuzler):\n",
    "    axes[p+1].imshow(yuz)"
   ]
  },
  {
   "cell_type": "code",
   "execution_count": null,
   "id": "0635c09a",
   "metadata": {},
   "outputs": [],
   "source": [
    "def hizali_yuzler(foto):\n",
    "    blc = bulucu(foto, 1)\n",
    "    \n",
    "    nesne = dlib.full_object_detections()\n",
    "\n",
    "    for detection in blc:\n",
    "        s = bicim(foto, detection)\n",
    "        nesne.append(s)\n",
    "    yuzler = dlib.get_face_chips(foto, nesne, size=256, padding=0.35)\n",
    "    return yuzler\n",
    "\n",
    "# çoklu yüzde hizalama işlemi kontrolü\n",
    "kontrol_foto = dlib.load_rgb_image('C:/Users/Burcu/Desktop/fotolar/07.jpg')\n",
    "kontrol_yuzler = hizali_yuzler(kontrol_foto)\n",
    "fig, axes = plt.subplots(1, len(kontrol_yuzler)+1, figsize=(20, 16))\n",
    "axes[0].imshow(kontrol_foto)\n",
    "for i, yuz in enumerate(kontrol_yuzler):\n",
    "    axes[i+1].imshow(yuz)"
   ]
  },
  {
   "cell_type": "code",
   "execution_count": null,
   "id": "f145b56a",
   "metadata": {},
   "outputs": [],
   "source": [
    "tf.disable_v2_behavior()\n",
    "sess = tf.compat.v1.Session()\n",
    "sess.run(tf.compat.v1.global_variables_initializer())\n",
    "\n",
    "saver = tf.train.import_meta_graph('C:/Users/Burcu/Desktop/modeller/model.meta')\n",
    "saver.restore(sess, tf.train.latest_checkpoint('C:/Users/Burcu/Desktop/modeller'))\n",
    "graph = tf.get_default_graph()\n",
    "\n",
    "X = graph.get_tensor_by_name('X:0') #KAYNAK FOTOĞRAF\n",
    "Y = graph.get_tensor_by_name('Y:0') #AKTARILAN FOTOĞRAF \n",
    "Xs = graph.get_tensor_by_name('generator/xs:0') #SONUC"
   ]
  },
  {
   "cell_type": "code",
   "execution_count": null,
   "id": "b13a1931",
   "metadata": {},
   "outputs": [],
   "source": [
    "def islemoncesi(foto):\n",
    "    return foto.astype(np.float32) / 127.5 - 1.\n",
    "\n",
    "def islemsonrasi(foto):\n",
    "    return ((foto + 1.) * 127.5).astype(np.uint8)"
   ]
  },
  {
   "cell_type": "code",
   "execution_count": null,
   "id": "69814054",
   "metadata": {},
   "outputs": [],
   "source": [
    "foto1 = dlib.load_rgb_image('C:/Users/Burcu/Desktop/fotolar/07.jpg')\n",
    "foto1_yuzler = hizali_yuzler(foto1)\n",
    "\n",
    "foto2 = dlib.load_rgb_image('C:/Users/Burcu/Desktop/fotolar/makyaj/makeup03.jpg')\n",
    "foto2_yuzler = hizali_yuzler(foto2)\n",
    "\n",
    "fig, axes = plt.subplots(1, 2, figsize=(16, 10))\n",
    "axes[0].imshow(foto1_yuzler[0])\n",
    "axes[1].imshow(foto2_yuzler[0])"
   ]
  },
  {
   "cell_type": "code",
   "execution_count": null,
   "id": "8b326e1c",
   "metadata": {},
   "outputs": [],
   "source": [
    "src_foto = foto1_yuzler[0]\n",
    "ref_foto = foto2_yuzler[0]\n",
    "\n",
    "X_foto = islemoncesi(src_foto)\n",
    "X_foto = np.expand_dims(X_foto, axis=0)\n",
    "\n",
    "Y_foto = islemoncesi(ref_foto)\n",
    "Y_foto = np.expand_dims(Y_foto, axis=0)\n",
    "\n",
    "cıkıs= sess.run(Xs, feed_dict={\n",
    "    X: X_foto,\n",
    "    Y: Y_foto\n",
    "})\n",
    "\n",
    "cıkıs_foto = islemsonrasi(cıkıs[0])\n",
    "\n",
    "fig, axes = plt.subplots(1, 3, figsize=(20, 10))\n",
    "axes[0].set_title('KAYNAK FOTOĞRAF')\n",
    "axes[0].imshow(src_foto)\n",
    "axes[1].set_title('AKTARILAN MAKYAJ')\n",
    "axes[1].imshow(ref_foto)\n",
    "axes[2].set_title('SONUC')\n",
    "axes[2].imshow(cıkıs_foto)"
   ]
  },
  {
   "cell_type": "code",
   "execution_count": null,
   "id": "a08e488c",
   "metadata": {},
   "outputs": [],
   "source": [
    "data= np.load('ORL_faces.npz')"
   ]
  },
  {
   "cell_type": "code",
   "execution_count": null,
   "id": "a83fd145",
   "metadata": {},
   "outputs": [],
   "source": [
    "type(data)"
   ]
  },
  {
   "cell_type": "code",
   "execution_count": null,
   "id": "e95ee733",
   "metadata": {},
   "outputs": [],
   "source": [
    "# load the \"Train Images\"\n",
    "x_train = data['trainX']\n",
    "#normalize every image\n",
    "x_train = np.array(x_train,dtype='float32')/255\n",
    "\n",
    "x_test = data['testX']\n",
    "x_test = np.array(x_test,dtype='float32')/255\n",
    "\n",
    "# load the Label of Images\n",
    "y_train= data['trainY']\n",
    "y_test= data['testY']\n",
    "\n",
    "# show the train and test Data format\n",
    "print('x_train : {}'.format(x_train[:]))\n",
    "print('Y-train shape: {}'.format(y_train))\n",
    "print('x_test shape: {}'.format(x_test.shape))"
   ]
  },
  {
   "cell_type": "code",
   "execution_count": null,
   "id": "ab26205d",
   "metadata": {},
   "outputs": [],
   "source": [
    "x_train, x_valid, y_train, y_valid= train_test_split(\n",
    "    x_train, y_train, test_size=.05, random_state=1234,)"
   ]
  },
  {
   "cell_type": "code",
   "execution_count": null,
   "id": "9bedcbfa",
   "metadata": {},
   "outputs": [],
   "source": [
    "im_rows=112\n",
    "im_cols=92\n",
    "batch_size=512\n",
    "im_shape=(im_rows, im_cols, 1)\n",
    "\n",
    "#change the size of images\n",
    "x_train = x_train.reshape(x_train.shape[0], *im_shape)\n",
    "x_test = x_test.reshape(x_test.shape[0], *im_shape)\n",
    "x_valid = x_valid.reshape(x_valid.shape[0], *im_shape)\n",
    "\n",
    "print('x_train shape: {}'.format(y_train.shape[0]))\n",
    "print('x_test shape: {}'.format(y_test.shape))"
   ]
  },
  {
   "cell_type": "code",
   "execution_count": null,
   "id": "2d49fd0b",
   "metadata": {},
   "outputs": [],
   "source": [
    "cnn_model= Sequential([\n",
    "    Conv2D(filters=36, kernel_size=7, activation='relu', input_shape= im_shape),\n",
    "    MaxPooling2D(pool_size=2),\n",
    "    Conv2D(filters=54, kernel_size=5, activation='relu', input_shape= im_shape),\n",
    "    MaxPooling2D(pool_size=2),\n",
    "    Flatten(),\n",
    "    Dense(2024, activation='relu'),\n",
    "     Dropout(0.5),\n",
    "    Dense(1024, activation='relu'),\n",
    "    Dropout(0.5),\n",
    "    Dense(512, activation='relu'),\n",
    "    Dropout(0.5),\n",
    "    #20 is the number of outputs\n",
    "    Dense(20, activation='softmax')  \n",
    "])\n",
    "\n",
    "cnn_model.compile(\n",
    "    loss='sparse_categorical_crossentropy',#'categorical_crossentropy',\n",
    "    optimizer=Adam(lr=0.0001),\n",
    "    metrics=['accuracy']\n",
    ")"
   ]
  },
  {
   "cell_type": "code",
   "execution_count": null,
   "id": "3c35dfc6",
   "metadata": {},
   "outputs": [],
   "source": [
    "cnn_model.summary()"
   ]
  },
  {
   "cell_type": "code",
   "execution_count": null,
   "id": "addea27e",
   "metadata": {},
   "outputs": [],
   "source": [
    "history=cnn_model.fit(\n",
    "    np.array(x_train), np.array(y_train), batch_size=512,\n",
    "    epochs=250,verbose=2,\n",
    "    validation_data=(np.array(x_valid),np.array(y_valid)),\n",
    ")"
   ]
  },
  {
   "cell_type": "code",
   "execution_count": null,
   "id": "f772dd82",
   "metadata": {},
   "outputs": [],
   "source": [
    "scor = cnn_model.evaluate( np.array(x_test),  np.array(y_test), verbose=0)\n",
    "\n",
    "print('test los {:.4f}'.format(scor[0]))\n",
    "print('test acc {:.4f}'.format(scor[1]))"
   ]
  },
  {
   "cell_type": "code",
   "execution_count": null,
   "id": "8173cd5b",
   "metadata": {},
   "outputs": [],
   "source": [
    "# list all data in history\n",
    "print(history.history.keys())\n",
    "# summarize history for accuracy\n",
    "plt.plot(history.history['accuracy'])\n",
    "plt.plot(history.history['val_accuracy'])\n",
    "plt.title('model accuracy')\n",
    "plt.ylabel('accuracy')\n",
    "plt.xlabel('epoch')\n",
    "plt.legend(['train', 'test'], loc='upper left')\n",
    "plt.show()\n",
    "# summarize history for loss\n",
    "plt.plot(history.history['loss'])\n",
    "plt.plot(history.history['val_loss'])\n",
    "plt.title('model loss')\n",
    "plt.ylabel('loss')\n",
    "plt.xlabel('epoch')\n",
    "plt.legend(['train', 'test'], loc='upper left')\n",
    "plt.show()"
   ]
  },
  {
   "cell_type": "code",
   "execution_count": null,
   "id": "269553df",
   "metadata": {},
   "outputs": [],
   "source": []
  }
 ],
 "metadata": {
  "kernelspec": {
   "display_name": "Python 3",
   "language": "python",
   "name": "python3"
  },
  "language_info": {
   "codemirror_mode": {
    "name": "ipython",
    "version": 3
   },
   "file_extension": ".py",
   "mimetype": "text/x-python",
   "name": "python",
   "nbconvert_exporter": "python",
   "pygments_lexer": "ipython3",
   "version": "3.8.8"
  }
 },
 "nbformat": 4,
 "nbformat_minor": 5
}
